{
 "cells": [
  {
   "cell_type": "markdown",
   "metadata": {},
   "source": [
    "# Comparision: FEM vs. other methods\n",
    "\n",
    "[![Binder](https://mybinder.org/badge.svg)](https://mybinder.org/v2/gh/danhtaihoang/hidden-variables/master?filepath=sphinx%2Fcodesource%2Fhidden.ipynb)\n",
    "\n",
    "We compare the performance of Free Energy Minimization (FEM) with other existing methods based on mean field approximations and Maximum Likelihood Estimation (MLE). We will see that FEM works much better than other methods, especially in the limit of large number of hidden variables.\n",
    "\n",
    "First of all, we import the necessary packages to the jupyter notebook:"
   ]
  },
  {
   "cell_type": "code",
   "execution_count": 1,
   "metadata": {},
   "outputs": [],
   "source": [
    "import numpy as np\n",
    "import sys\n",
    "import timeit\n",
    "import matplotlib.pyplot as plt\n",
    "import simulate\n",
    "import inference\n",
    "%matplotlib inline\n",
    "\n",
    "np.random.seed(1)"
   ]
  },
  {
   "cell_type": "markdown",
   "metadata": {},
   "source": [
    "We generate a true interaction matrix `w0` and time series data `s0`."
   ]
  },
  {
   "cell_type": "code",
   "execution_count": 2,
   "metadata": {},
   "outputs": [],
   "source": [
    "# parameter setting:\n",
    "n0 = 40  # number of variables\n",
    "g = 4.0  # interaction variability parameter\n",
    "\n",
    "w0 = np.random.normal(0.0,g/np.sqrt(n0),size=(n0,n0))\n",
    "\n",
    "# generating time-series data\n",
    "l = int(2*(n0**2))\n",
    "s0 = simulate.generate_data(w0,l)"
   ]
  },
  {
   "cell_type": "markdown",
   "metadata": {},
   "source": [
    "Suppose only a subset of variables is observed."
   ]
  },
  {
   "cell_type": "code",
   "execution_count": 3,
   "metadata": {},
   "outputs": [],
   "source": [
    "nh0 = 12\n",
    "n = n0 - nh0\n",
    "s = s0[:,:n].copy()"
   ]
  },
  {
   "cell_type": "markdown",
   "metadata": {},
   "source": [
    "We use a number of hidden variables as its actual value."
   ]
  },
  {
   "cell_type": "code",
   "execution_count": 4,
   "metadata": {},
   "outputs": [],
   "source": [
    "nh = nh0"
   ]
  },
  {
   "cell_type": "markdown",
   "metadata": {},
   "source": [
    "Because we will plot the prediction result of every methods, let us write a plot function."
   ]
  },
  {
   "cell_type": "code",
   "execution_count": 5,
   "metadata": {},
   "outputs": [],
   "source": [
    "def plot_result(w0,w):\n",
    "    plt.figure(figsize=(13.2,3.2))\n",
    "\n",
    "    plt.subplot2grid((1,4),(0,0))\n",
    "    plt.title('observed to observed')\n",
    "    plt.plot([-2.5,2.5],[-2.5,2.5],'r--')\n",
    "    plt.scatter(w0[:n,:n],w[:n,:n])\n",
    "    plt.xticks([-2,0,2])\n",
    "    plt.yticks([-2,0,2])\n",
    "    plt.xlabel('actual interactions')\n",
    "    plt.ylabel('inferred interactions')\n",
    "\n",
    "    plt.subplot2grid((1,4),(0,1))\n",
    "    plt.title('hidden to observed')\n",
    "    plt.plot([-2.5,2.5],[-2.5,2.5],'r--')\n",
    "    plt.scatter(w0[:n,n:],w[:n,n:])\n",
    "    plt.xticks([-2,0,2])\n",
    "    plt.yticks([-2,0,2])\n",
    "    plt.xlabel('actual interactions')\n",
    "    plt.ylabel('inferred interactions')\n",
    "\n",
    "    plt.subplot2grid((1,4),(0,2))\n",
    "    plt.title('observed to hidden')\n",
    "    plt.plot([-2.5,2.5],[-2.5,2.5],'r--')\n",
    "    plt.xticks([-2,0,2])\n",
    "    plt.yticks([-2,0,2])\n",
    "    plt.scatter(w0[n:,:n],w[n:,:n])\n",
    "    plt.xlabel('actual interactions')\n",
    "    plt.ylabel('inferred interactions')\n",
    "\n",
    "    plt.subplot2grid((1,4),(0,3))\n",
    "    plt.title('hidden to hidden')\n",
    "    plt.plot([-2.5,2.5],[-2.5,2.5],'r--')\n",
    "    plt.scatter(w0[n:,n:],w[n:,n:])\n",
    "    plt.xticks([-2,0,2])\n",
    "    plt.yticks([-2,0,2])\n",
    "    plt.xlabel('actual interactions')\n",
    "    plt.ylabel('inferred interactions')\n",
    "\n",
    "    plt.tight_layout(h_pad=1, w_pad=1.5)\n",
    "    plt.show()"
   ]
  },
  {
   "cell_type": "markdown",
   "metadata": {},
   "source": [
    "## Naive Mean-Field approximation"
   ]
  },
  {
   "cell_type": "code",
   "execution_count": null,
   "metadata": {},
   "outputs": [
    {
     "name": "stdout",
     "output_type": "stream",
     "text": [
      "nMF:\n"
     ]
    }
   ],
   "source": [
    "print('nMF:')\n",
    "cost_obs,w,sh = inference.infer_hidden(s,nh,method='nmf')\n",
    "w,sh = inference.hidden_coordinate(w0,s0,w,sh)\n",
    "plot_result(w0,w)"
   ]
  },
  {
   "cell_type": "markdown",
   "metadata": {},
   "source": [
    "## Thouless-Anderson-Palmer mean field approximation"
   ]
  },
  {
   "cell_type": "code",
   "execution_count": null,
   "metadata": {},
   "outputs": [],
   "source": [
    "print('TAP:')\n",
    "cost_obs,w,sh = inference.infer_hidden(s,nh,method='tap')\n",
    "w,sh = inference.hidden_coordinate(w0,s0,w,sh)\n",
    "plot_result(w0,w)"
   ]
  },
  {
   "cell_type": "markdown",
   "metadata": {},
   "source": [
    "## Exact mean field approximation"
   ]
  },
  {
   "cell_type": "code",
   "execution_count": null,
   "metadata": {},
   "outputs": [],
   "source": [
    "print('eMF:')\n",
    "cost_obs,w,sh = inference.infer_hidden(s,nh,method='emf')\n",
    "w,sh = inference.hidden_coordinate(w0,s0,w,sh)\n",
    "plot_result(w0,w)"
   ]
  },
  {
   "cell_type": "markdown",
   "metadata": {},
   "source": [
    "## Maximum Likelihood Estimation"
   ]
  },
  {
   "cell_type": "code",
   "execution_count": null,
   "metadata": {},
   "outputs": [],
   "source": [
    "print('MLE:')\n",
    "\n",
    "start_time = timeit.default_timer()\n",
    "\n",
    "cost_obs,w,sh = inference.infer_hidden(s,nh,method='mle')\n",
    "w,sh = inference.hidden_coordinate(w0,s0,w,sh)\n",
    "\n",
    "stop_time=timeit.default_timer()\n",
    "run_time=stop_time-start_time\n",
    "print('run_time:',run_time)\n",
    "\n",
    "plot_result(w0,w)"
   ]
  },
  {
   "cell_type": "markdown",
   "metadata": {},
   "source": [
    "## Free Energy Minimization"
   ]
  },
  {
   "cell_type": "code",
   "execution_count": null,
   "metadata": {
    "scrolled": true
   },
   "outputs": [],
   "source": [
    "print('FEM:')\n",
    "\n",
    "start_time = timeit.default_timer()\n",
    "\n",
    "cost_obs,w,sh = inference.infer_hidden(s,nh,method='fem')\n",
    "w,sh = inference.hidden_coordinate(w0,s0,w,sh)\n",
    "\n",
    "stop_time=timeit.default_timer()\n",
    "run_time=stop_time-start_time\n",
    "print('run_time:',run_time)\n",
    "\n",
    "plot_result(w0,w)"
   ]
  },
  {
   "cell_type": "markdown",
   "metadata": {},
   "source": [
    "From the above results, we conclude that FEM outperforms other existing methods."
   ]
  },
  {
   "cell_type": "code",
   "execution_count": null,
   "metadata": {},
   "outputs": [],
   "source": []
  }
 ],
 "metadata": {
  "kernelspec": {
   "display_name": "Python 2",
   "language": "python",
   "name": "python2"
  },
  "language_info": {
   "codemirror_mode": {
    "name": "ipython",
    "version": 2
   },
   "file_extension": ".py",
   "mimetype": "text/x-python",
   "name": "python",
   "nbconvert_exporter": "python",
   "pygments_lexer": "ipython2",
   "version": "2.7.15"
  }
 },
 "nbformat": 4,
 "nbformat_minor": 2
}
